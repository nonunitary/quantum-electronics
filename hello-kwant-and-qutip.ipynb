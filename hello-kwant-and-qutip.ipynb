{
 "cells": [
  {
   "cell_type": "markdown",
   "id": "a783bd27",
   "metadata": {},
   "source": [
    "# Import `kwant`"
   ]
  },
  {
   "cell_type": "code",
   "execution_count": null,
   "id": "9dba5a67",
   "metadata": {},
   "outputs": [],
   "source": [
    "import kwant"
   ]
  },
  {
   "cell_type": "code",
   "execution_count": null,
   "id": "713097b9",
   "metadata": {},
   "outputs": [],
   "source": [
    "print(kwant.__version__)"
   ]
  },
  {
   "cell_type": "markdown",
   "id": "01a410d3",
   "metadata": {},
   "source": [
    "# Import `qutip`"
   ]
  },
  {
   "cell_type": "code",
   "execution_count": null,
   "id": "9c657da2",
   "metadata": {},
   "outputs": [],
   "source": [
    "import qutip"
   ]
  },
  {
   "cell_type": "code",
   "execution_count": null,
   "id": "bc588a9f",
   "metadata": {},
   "outputs": [],
   "source": [
    "print(qutip.__version__)"
   ]
  },
  {
   "cell_type": "markdown",
   "id": "65f0ecf7",
   "metadata": {},
   "source": [
    "# Test `kwant`"
   ]
  },
  {
   "cell_type": "code",
   "execution_count": null,
   "id": "fff627e1",
   "metadata": {},
   "outputs": [],
   "source": [
    "lat = kwant.lattice.honeycomb()\n",
    "a, b = lat.sublattices\n",
    "\n",
    "def make_system(r=8, t=-1, tp=-0.1):\n",
    "\n",
    "    def circle(pos):\n",
    "        x, y = pos\n",
    "        return x**2 + y**2 < r**2\n",
    "\n",
    "    sys = kwant.Builder()\n",
    "    sys[lat.shape(circle, (0, 0))] = 0\n",
    "    sys[lat.neighbors()] = t\n",
    "    sys.eradicate_dangling()\n",
    "    if tp:\n",
    "        sys[lat.neighbors(2)] = tp\n",
    "\n",
    "    return sys"
   ]
  },
  {
   "cell_type": "code",
   "execution_count": null,
   "id": "bcd6fbfa",
   "metadata": {},
   "outputs": [],
   "source": [
    "kwant.plot(make_system());"
   ]
  },
  {
   "cell_type": "markdown",
   "id": "e5a52ba4",
   "metadata": {},
   "source": [
    "# Test `qutip` "
   ]
  },
  {
   "cell_type": "code",
   "execution_count": null,
   "id": "f673dff8",
   "metadata": {},
   "outputs": [],
   "source": [
    "qutip.Qobj([[1, 2], [0, 1]])"
   ]
  }
 ],
 "metadata": {
  "kernelspec": {
   "display_name": "Python 3 (ipykernel)",
   "language": "python",
   "name": "python3"
  },
  "language_info": {
   "codemirror_mode": {
    "name": "ipython",
    "version": 3
   },
   "file_extension": ".py",
   "mimetype": "text/x-python",
   "name": "python",
   "nbconvert_exporter": "python",
   "pygments_lexer": "ipython3",
   "version": "3.9.6"
  }
 },
 "nbformat": 4,
 "nbformat_minor": 5
}
